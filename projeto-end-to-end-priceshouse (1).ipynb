{
 "cells": [
  {
   "cell_type": "markdown",
   "id": "0538ffac",
   "metadata": {
    "papermill": {
     "duration": 0.012647,
     "end_time": "2023-02-01T04:28:15.521220",
     "exception": false,
     "start_time": "2023-02-01T04:28:15.508573",
     "status": "completed"
    },
    "tags": []
   },
   "source": [
    "> > **Introdução**: Neste dataset, temos várias features que podem ser importantes para previsão do preço de casas.\n",
    "\n",
    "> > **Objetivo:** inicialmente, é necessário fazer algumas manipulações de modo que precisamos escolher o melhor modelo para o cliente aplicar em seus dados, seja com dashboard, em alguma apresentação, ou paínel. Dessa forma, é necessário fazer previsões com base em alguns parâmetros ('LotArea', 'YearBuilt', '1stFlrSF', '2ndFlrSF', 'FullBath', 'BedroomAbvGr', 'TotRmsAbvGrd') do conjunto de dados."
   ]
  },
  {
   "cell_type": "markdown",
   "id": "67dca521",
   "metadata": {
    "papermill": {
     "duration": 0.011573,
     "end_time": "2023-02-01T04:28:15.545996",
     "exception": false,
     "start_time": "2023-02-01T04:28:15.534423",
     "status": "completed"
    },
    "tags": []
   },
   "source": [
    "# Vamos analizar o RandomForest[](http://)"
   ]
  },
  {
   "cell_type": "markdown",
   "id": "466ae90d",
   "metadata": {
    "papermill": {
     "duration": 0.010947,
     "end_time": "2023-02-01T04:28:15.570041",
     "exception": false,
     "start_time": "2023-02-01T04:28:15.559094",
     "status": "completed"
    },
    "tags": []
   },
   "source": [
    "### 1 Importação dos dados e Limpeza (um pouco de EDA)"
   ]
  },
  {
   "cell_type": "code",
   "execution_count": 1,
   "id": "90f5e038",
   "metadata": {
    "execution": {
     "iopub.execute_input": "2023-02-01T04:28:15.596427Z",
     "iopub.status.busy": "2023-02-01T04:28:15.595856Z",
     "iopub.status.idle": "2023-02-01T04:28:15.606891Z",
     "shell.execute_reply": "2023-02-01T04:28:15.605975Z"
    },
    "papermill": {
     "duration": 0.026866,
     "end_time": "2023-02-01T04:28:15.609681",
     "exception": false,
     "start_time": "2023-02-01T04:28:15.582815",
     "status": "completed"
    },
    "tags": []
   },
   "outputs": [],
   "source": [
    "# Importando as bibliotecas necessárias para manipulação dos dados\n",
    "import numpy as np\n",
    "import pandas as pd"
   ]
  },
  {
   "cell_type": "code",
   "execution_count": 2,
   "id": "a4a7d6e0",
   "metadata": {
    "execution": {
     "iopub.execute_input": "2023-02-01T04:28:15.636425Z",
     "iopub.status.busy": "2023-02-01T04:28:15.634585Z",
     "iopub.status.idle": "2023-02-01T04:28:15.728498Z",
     "shell.execute_reply": "2023-02-01T04:28:15.727247Z"
    },
    "papermill": {
     "duration": 0.110064,
     "end_time": "2023-02-01T04:28:15.731405",
     "exception": false,
     "start_time": "2023-02-01T04:28:15.621341",
     "status": "completed"
    },
    "tags": []
   },
   "outputs": [],
   "source": [
    "# Definindo e importando os dados para visualização\n",
    "df1 = pd.read_csv('/kaggle/input/house-prices-advanced-regression-techniques/test.csv')\n",
    "df2 = pd.read_csv('/kaggle/input/house-prices-advanced-regression-techniques/train.csv')"
   ]
  },
  {
   "cell_type": "code",
   "execution_count": 3,
   "id": "3216325e",
   "metadata": {
    "execution": {
     "iopub.execute_input": "2023-02-01T04:28:15.756715Z",
     "iopub.status.busy": "2023-02-01T04:28:15.756023Z",
     "iopub.status.idle": "2023-02-01T04:28:15.766141Z",
     "shell.execute_reply": "2023-02-01T04:28:15.764820Z"
    },
    "papermill": {
     "duration": 0.025693,
     "end_time": "2023-02-01T04:28:15.768856",
     "exception": false,
     "start_time": "2023-02-01T04:28:15.743163",
     "status": "completed"
    },
    "tags": []
   },
   "outputs": [
    {
     "data": {
      "text/plain": [
       "Index(['Id', 'MSSubClass', 'MSZoning', 'LotFrontage', 'LotArea', 'Street',\n",
       "       'Alley', 'LotShape', 'LandContour', 'Utilities', 'LotConfig',\n",
       "       'LandSlope', 'Neighborhood', 'Condition1', 'Condition2', 'BldgType',\n",
       "       'HouseStyle', 'OverallQual', 'OverallCond', 'YearBuilt', 'YearRemodAdd',\n",
       "       'RoofStyle', 'RoofMatl', 'Exterior1st', 'Exterior2nd', 'MasVnrType',\n",
       "       'MasVnrArea', 'ExterQual', 'ExterCond', 'Foundation', 'BsmtQual',\n",
       "       'BsmtCond', 'BsmtExposure', 'BsmtFinType1', 'BsmtFinSF1',\n",
       "       'BsmtFinType2', 'BsmtFinSF2', 'BsmtUnfSF', 'TotalBsmtSF', 'Heating',\n",
       "       'HeatingQC', 'CentralAir', 'Electrical', '1stFlrSF', '2ndFlrSF',\n",
       "       'LowQualFinSF', 'GrLivArea', 'BsmtFullBath', 'BsmtHalfBath', 'FullBath',\n",
       "       'HalfBath', 'BedroomAbvGr', 'KitchenAbvGr', 'KitchenQual',\n",
       "       'TotRmsAbvGrd', 'Functional', 'Fireplaces', 'FireplaceQu', 'GarageType',\n",
       "       'GarageYrBlt', 'GarageFinish', 'GarageCars', 'GarageArea', 'GarageQual',\n",
       "       'GarageCond', 'PavedDrive', 'WoodDeckSF', 'OpenPorchSF',\n",
       "       'EnclosedPorch', '3SsnPorch', 'ScreenPorch', 'PoolArea', 'PoolQC',\n",
       "       'Fence', 'MiscFeature', 'MiscVal', 'MoSold', 'YrSold', 'SaleType',\n",
       "       'SaleCondition', 'SalePrice'],\n",
       "      dtype='object')"
      ]
     },
     "execution_count": 3,
     "metadata": {},
     "output_type": "execute_result"
    }
   ],
   "source": [
    "# Visualizando os conjunto dados treino\n",
    "df2.columns"
   ]
  },
  {
   "cell_type": "code",
   "execution_count": 4,
   "id": "a5110ec2",
   "metadata": {
    "execution": {
     "iopub.execute_input": "2023-02-01T04:28:15.794571Z",
     "iopub.status.busy": "2023-02-01T04:28:15.794088Z",
     "iopub.status.idle": "2023-02-01T04:28:15.922308Z",
     "shell.execute_reply": "2023-02-01T04:28:15.921433Z"
    },
    "papermill": {
     "duration": 0.144084,
     "end_time": "2023-02-01T04:28:15.924423",
     "exception": false,
     "start_time": "2023-02-01T04:28:15.780339",
     "status": "completed"
    },
    "tags": []
   },
   "outputs": [
    {
     "data": {
      "text/html": [
       "<div>\n",
       "<style scoped>\n",
       "    .dataframe tbody tr th:only-of-type {\n",
       "        vertical-align: middle;\n",
       "    }\n",
       "\n",
       "    .dataframe tbody tr th {\n",
       "        vertical-align: top;\n",
       "    }\n",
       "\n",
       "    .dataframe thead th {\n",
       "        text-align: right;\n",
       "    }\n",
       "</style>\n",
       "<table border=\"1\" class=\"dataframe\">\n",
       "  <thead>\n",
       "    <tr style=\"text-align: right;\">\n",
       "      <th></th>\n",
       "      <th>Id</th>\n",
       "      <th>MSSubClass</th>\n",
       "      <th>LotFrontage</th>\n",
       "      <th>LotArea</th>\n",
       "      <th>OverallQual</th>\n",
       "      <th>OverallCond</th>\n",
       "      <th>YearBuilt</th>\n",
       "      <th>YearRemodAdd</th>\n",
       "      <th>MasVnrArea</th>\n",
       "      <th>BsmtFinSF1</th>\n",
       "      <th>...</th>\n",
       "      <th>WoodDeckSF</th>\n",
       "      <th>OpenPorchSF</th>\n",
       "      <th>EnclosedPorch</th>\n",
       "      <th>3SsnPorch</th>\n",
       "      <th>ScreenPorch</th>\n",
       "      <th>PoolArea</th>\n",
       "      <th>MiscVal</th>\n",
       "      <th>MoSold</th>\n",
       "      <th>YrSold</th>\n",
       "      <th>SalePrice</th>\n",
       "    </tr>\n",
       "  </thead>\n",
       "  <tbody>\n",
       "    <tr>\n",
       "      <th>count</th>\n",
       "      <td>1460.000000</td>\n",
       "      <td>1460.000000</td>\n",
       "      <td>1201.000000</td>\n",
       "      <td>1460.000000</td>\n",
       "      <td>1460.000000</td>\n",
       "      <td>1460.000000</td>\n",
       "      <td>1460.000000</td>\n",
       "      <td>1460.000000</td>\n",
       "      <td>1452.000000</td>\n",
       "      <td>1460.000000</td>\n",
       "      <td>...</td>\n",
       "      <td>1460.000000</td>\n",
       "      <td>1460.000000</td>\n",
       "      <td>1460.000000</td>\n",
       "      <td>1460.000000</td>\n",
       "      <td>1460.000000</td>\n",
       "      <td>1460.000000</td>\n",
       "      <td>1460.000000</td>\n",
       "      <td>1460.000000</td>\n",
       "      <td>1460.000000</td>\n",
       "      <td>1460.000000</td>\n",
       "    </tr>\n",
       "    <tr>\n",
       "      <th>mean</th>\n",
       "      <td>730.500000</td>\n",
       "      <td>56.897260</td>\n",
       "      <td>70.049958</td>\n",
       "      <td>10516.828082</td>\n",
       "      <td>6.099315</td>\n",
       "      <td>5.575342</td>\n",
       "      <td>1971.267808</td>\n",
       "      <td>1984.865753</td>\n",
       "      <td>103.685262</td>\n",
       "      <td>443.639726</td>\n",
       "      <td>...</td>\n",
       "      <td>94.244521</td>\n",
       "      <td>46.660274</td>\n",
       "      <td>21.954110</td>\n",
       "      <td>3.409589</td>\n",
       "      <td>15.060959</td>\n",
       "      <td>2.758904</td>\n",
       "      <td>43.489041</td>\n",
       "      <td>6.321918</td>\n",
       "      <td>2007.815753</td>\n",
       "      <td>180921.195890</td>\n",
       "    </tr>\n",
       "    <tr>\n",
       "      <th>std</th>\n",
       "      <td>421.610009</td>\n",
       "      <td>42.300571</td>\n",
       "      <td>24.284752</td>\n",
       "      <td>9981.264932</td>\n",
       "      <td>1.382997</td>\n",
       "      <td>1.112799</td>\n",
       "      <td>30.202904</td>\n",
       "      <td>20.645407</td>\n",
       "      <td>181.066207</td>\n",
       "      <td>456.098091</td>\n",
       "      <td>...</td>\n",
       "      <td>125.338794</td>\n",
       "      <td>66.256028</td>\n",
       "      <td>61.119149</td>\n",
       "      <td>29.317331</td>\n",
       "      <td>55.757415</td>\n",
       "      <td>40.177307</td>\n",
       "      <td>496.123024</td>\n",
       "      <td>2.703626</td>\n",
       "      <td>1.328095</td>\n",
       "      <td>79442.502883</td>\n",
       "    </tr>\n",
       "    <tr>\n",
       "      <th>min</th>\n",
       "      <td>1.000000</td>\n",
       "      <td>20.000000</td>\n",
       "      <td>21.000000</td>\n",
       "      <td>1300.000000</td>\n",
       "      <td>1.000000</td>\n",
       "      <td>1.000000</td>\n",
       "      <td>1872.000000</td>\n",
       "      <td>1950.000000</td>\n",
       "      <td>0.000000</td>\n",
       "      <td>0.000000</td>\n",
       "      <td>...</td>\n",
       "      <td>0.000000</td>\n",
       "      <td>0.000000</td>\n",
       "      <td>0.000000</td>\n",
       "      <td>0.000000</td>\n",
       "      <td>0.000000</td>\n",
       "      <td>0.000000</td>\n",
       "      <td>0.000000</td>\n",
       "      <td>1.000000</td>\n",
       "      <td>2006.000000</td>\n",
       "      <td>34900.000000</td>\n",
       "    </tr>\n",
       "    <tr>\n",
       "      <th>25%</th>\n",
       "      <td>365.750000</td>\n",
       "      <td>20.000000</td>\n",
       "      <td>59.000000</td>\n",
       "      <td>7553.500000</td>\n",
       "      <td>5.000000</td>\n",
       "      <td>5.000000</td>\n",
       "      <td>1954.000000</td>\n",
       "      <td>1967.000000</td>\n",
       "      <td>0.000000</td>\n",
       "      <td>0.000000</td>\n",
       "      <td>...</td>\n",
       "      <td>0.000000</td>\n",
       "      <td>0.000000</td>\n",
       "      <td>0.000000</td>\n",
       "      <td>0.000000</td>\n",
       "      <td>0.000000</td>\n",
       "      <td>0.000000</td>\n",
       "      <td>0.000000</td>\n",
       "      <td>5.000000</td>\n",
       "      <td>2007.000000</td>\n",
       "      <td>129975.000000</td>\n",
       "    </tr>\n",
       "    <tr>\n",
       "      <th>50%</th>\n",
       "      <td>730.500000</td>\n",
       "      <td>50.000000</td>\n",
       "      <td>69.000000</td>\n",
       "      <td>9478.500000</td>\n",
       "      <td>6.000000</td>\n",
       "      <td>5.000000</td>\n",
       "      <td>1973.000000</td>\n",
       "      <td>1994.000000</td>\n",
       "      <td>0.000000</td>\n",
       "      <td>383.500000</td>\n",
       "      <td>...</td>\n",
       "      <td>0.000000</td>\n",
       "      <td>25.000000</td>\n",
       "      <td>0.000000</td>\n",
       "      <td>0.000000</td>\n",
       "      <td>0.000000</td>\n",
       "      <td>0.000000</td>\n",
       "      <td>0.000000</td>\n",
       "      <td>6.000000</td>\n",
       "      <td>2008.000000</td>\n",
       "      <td>163000.000000</td>\n",
       "    </tr>\n",
       "    <tr>\n",
       "      <th>75%</th>\n",
       "      <td>1095.250000</td>\n",
       "      <td>70.000000</td>\n",
       "      <td>80.000000</td>\n",
       "      <td>11601.500000</td>\n",
       "      <td>7.000000</td>\n",
       "      <td>6.000000</td>\n",
       "      <td>2000.000000</td>\n",
       "      <td>2004.000000</td>\n",
       "      <td>166.000000</td>\n",
       "      <td>712.250000</td>\n",
       "      <td>...</td>\n",
       "      <td>168.000000</td>\n",
       "      <td>68.000000</td>\n",
       "      <td>0.000000</td>\n",
       "      <td>0.000000</td>\n",
       "      <td>0.000000</td>\n",
       "      <td>0.000000</td>\n",
       "      <td>0.000000</td>\n",
       "      <td>8.000000</td>\n",
       "      <td>2009.000000</td>\n",
       "      <td>214000.000000</td>\n",
       "    </tr>\n",
       "    <tr>\n",
       "      <th>max</th>\n",
       "      <td>1460.000000</td>\n",
       "      <td>190.000000</td>\n",
       "      <td>313.000000</td>\n",
       "      <td>215245.000000</td>\n",
       "      <td>10.000000</td>\n",
       "      <td>9.000000</td>\n",
       "      <td>2010.000000</td>\n",
       "      <td>2010.000000</td>\n",
       "      <td>1600.000000</td>\n",
       "      <td>5644.000000</td>\n",
       "      <td>...</td>\n",
       "      <td>857.000000</td>\n",
       "      <td>547.000000</td>\n",
       "      <td>552.000000</td>\n",
       "      <td>508.000000</td>\n",
       "      <td>480.000000</td>\n",
       "      <td>738.000000</td>\n",
       "      <td>15500.000000</td>\n",
       "      <td>12.000000</td>\n",
       "      <td>2010.000000</td>\n",
       "      <td>755000.000000</td>\n",
       "    </tr>\n",
       "  </tbody>\n",
       "</table>\n",
       "<p>8 rows × 38 columns</p>\n",
       "</div>"
      ],
      "text/plain": [
       "                Id   MSSubClass  LotFrontage        LotArea  OverallQual  \\\n",
       "count  1460.000000  1460.000000  1201.000000    1460.000000  1460.000000   \n",
       "mean    730.500000    56.897260    70.049958   10516.828082     6.099315   \n",
       "std     421.610009    42.300571    24.284752    9981.264932     1.382997   \n",
       "min       1.000000    20.000000    21.000000    1300.000000     1.000000   \n",
       "25%     365.750000    20.000000    59.000000    7553.500000     5.000000   \n",
       "50%     730.500000    50.000000    69.000000    9478.500000     6.000000   \n",
       "75%    1095.250000    70.000000    80.000000   11601.500000     7.000000   \n",
       "max    1460.000000   190.000000   313.000000  215245.000000    10.000000   \n",
       "\n",
       "       OverallCond    YearBuilt  YearRemodAdd   MasVnrArea   BsmtFinSF1  ...  \\\n",
       "count  1460.000000  1460.000000   1460.000000  1452.000000  1460.000000  ...   \n",
       "mean      5.575342  1971.267808   1984.865753   103.685262   443.639726  ...   \n",
       "std       1.112799    30.202904     20.645407   181.066207   456.098091  ...   \n",
       "min       1.000000  1872.000000   1950.000000     0.000000     0.000000  ...   \n",
       "25%       5.000000  1954.000000   1967.000000     0.000000     0.000000  ...   \n",
       "50%       5.000000  1973.000000   1994.000000     0.000000   383.500000  ...   \n",
       "75%       6.000000  2000.000000   2004.000000   166.000000   712.250000  ...   \n",
       "max       9.000000  2010.000000   2010.000000  1600.000000  5644.000000  ...   \n",
       "\n",
       "        WoodDeckSF  OpenPorchSF  EnclosedPorch    3SsnPorch  ScreenPorch  \\\n",
       "count  1460.000000  1460.000000    1460.000000  1460.000000  1460.000000   \n",
       "mean     94.244521    46.660274      21.954110     3.409589    15.060959   \n",
       "std     125.338794    66.256028      61.119149    29.317331    55.757415   \n",
       "min       0.000000     0.000000       0.000000     0.000000     0.000000   \n",
       "25%       0.000000     0.000000       0.000000     0.000000     0.000000   \n",
       "50%       0.000000    25.000000       0.000000     0.000000     0.000000   \n",
       "75%     168.000000    68.000000       0.000000     0.000000     0.000000   \n",
       "max     857.000000   547.000000     552.000000   508.000000   480.000000   \n",
       "\n",
       "          PoolArea       MiscVal       MoSold       YrSold      SalePrice  \n",
       "count  1460.000000   1460.000000  1460.000000  1460.000000    1460.000000  \n",
       "mean      2.758904     43.489041     6.321918  2007.815753  180921.195890  \n",
       "std      40.177307    496.123024     2.703626     1.328095   79442.502883  \n",
       "min       0.000000      0.000000     1.000000  2006.000000   34900.000000  \n",
       "25%       0.000000      0.000000     5.000000  2007.000000  129975.000000  \n",
       "50%       0.000000      0.000000     6.000000  2008.000000  163000.000000  \n",
       "75%       0.000000      0.000000     8.000000  2009.000000  214000.000000  \n",
       "max     738.000000  15500.000000    12.000000  2010.000000  755000.000000  \n",
       "\n",
       "[8 rows x 38 columns]"
      ]
     },
     "execution_count": 4,
     "metadata": {},
     "output_type": "execute_result"
    }
   ],
   "source": [
    "# Visualizando algumas informações baísicas, como quantidade de linhas, média\n",
    "# std, quartis/percentiles\n",
    "df2.describe()"
   ]
  },
  {
   "cell_type": "code",
   "execution_count": 5,
   "id": "8677b018",
   "metadata": {
    "execution": {
     "iopub.execute_input": "2023-02-01T04:28:15.950994Z",
     "iopub.status.busy": "2023-02-01T04:28:15.950269Z",
     "iopub.status.idle": "2023-02-01T04:28:15.962973Z",
     "shell.execute_reply": "2023-02-01T04:28:15.961708Z"
    },
    "papermill": {
     "duration": 0.029038,
     "end_time": "2023-02-01T04:28:15.965861",
     "exception": false,
     "start_time": "2023-02-01T04:28:15.936823",
     "status": "completed"
    },
    "tags": []
   },
   "outputs": [
    {
     "data": {
      "text/plain": [
       "Id                 0\n",
       "MSSubClass         0\n",
       "MSZoning           0\n",
       "LotFrontage      259\n",
       "LotArea            0\n",
       "                ... \n",
       "MoSold             0\n",
       "YrSold             0\n",
       "SaleType           0\n",
       "SaleCondition      0\n",
       "SalePrice          0\n",
       "Length: 81, dtype: int64"
      ]
     },
     "execution_count": 5,
     "metadata": {},
     "output_type": "execute_result"
    }
   ],
   "source": [
    "# Verificando os nulos (está aparecendo zero porque na etapa posterior eu fiz\n",
    "#a manipulação utilizando um replace em LotFrontage substituindo os nulos pela média)\n",
    "df2.isnull().sum()"
   ]
  },
  {
   "cell_type": "code",
   "execution_count": 6,
   "id": "5a98e07d",
   "metadata": {
    "execution": {
     "iopub.execute_input": "2023-02-01T04:28:15.993107Z",
     "iopub.status.busy": "2023-02-01T04:28:15.992641Z",
     "iopub.status.idle": "2023-02-01T04:28:15.999917Z",
     "shell.execute_reply": "2023-02-01T04:28:15.998731Z"
    },
    "papermill": {
     "duration": 0.024032,
     "end_time": "2023-02-01T04:28:16.002474",
     "exception": false,
     "start_time": "2023-02-01T04:28:15.978442",
     "status": "completed"
    },
    "tags": []
   },
   "outputs": [
    {
     "data": {
      "text/plain": [
       "(1460, 81)"
      ]
     },
     "execution_count": 6,
     "metadata": {},
     "output_type": "execute_result"
    }
   ],
   "source": [
    "# verificando a quantidade de linhas e colunas\n",
    "df2.shape"
   ]
  },
  {
   "cell_type": "code",
   "execution_count": 7,
   "id": "3d3de302",
   "metadata": {
    "execution": {
     "iopub.execute_input": "2023-02-01T04:28:16.029898Z",
     "iopub.status.busy": "2023-02-01T04:28:16.029502Z",
     "iopub.status.idle": "2023-02-01T04:28:16.037060Z",
     "shell.execute_reply": "2023-02-01T04:28:16.035873Z"
    },
    "papermill": {
     "duration": 0.023661,
     "end_time": "2023-02-01T04:28:16.039383",
     "exception": false,
     "start_time": "2023-02-01T04:28:16.015722",
     "status": "completed"
    },
    "tags": []
   },
   "outputs": [
    {
     "data": {
      "text/plain": [
       "pandas.core.series.Series"
      ]
     },
     "execution_count": 7,
     "metadata": {},
     "output_type": "execute_result"
    }
   ],
   "source": [
    "# analizando o type de dado\n",
    "type(df2['LotFrontage'])"
   ]
  },
  {
   "cell_type": "code",
   "execution_count": 8,
   "id": "34011929",
   "metadata": {
    "execution": {
     "iopub.execute_input": "2023-02-01T04:28:16.066245Z",
     "iopub.status.busy": "2023-02-01T04:28:16.065797Z",
     "iopub.status.idle": "2023-02-01T04:28:16.074415Z",
     "shell.execute_reply": "2023-02-01T04:28:16.072695Z"
    },
    "papermill": {
     "duration": 0.025419,
     "end_time": "2023-02-01T04:28:16.077468",
     "exception": false,
     "start_time": "2023-02-01T04:28:16.052049",
     "status": "completed"
    },
    "tags": []
   },
   "outputs": [],
   "source": [
    "# fazendo a substituição\n",
    "df2['LotFrontage'].fillna(np.mean(df2['LotFrontage']), inplace = True)"
   ]
  },
  {
   "cell_type": "markdown",
   "id": "b03d37db",
   "metadata": {
    "papermill": {
     "duration": 0.011801,
     "end_time": "2023-02-01T04:28:16.101525",
     "exception": false,
     "start_time": "2023-02-01T04:28:16.089724",
     "status": "completed"
    },
    "tags": []
   },
   "source": [
    "### 2 Início do Algoritmo de ML"
   ]
  },
  {
   "cell_type": "code",
   "execution_count": 9,
   "id": "fe2db74d",
   "metadata": {
    "execution": {
     "iopub.execute_input": "2023-02-01T04:28:16.128469Z",
     "iopub.status.busy": "2023-02-01T04:28:16.127658Z",
     "iopub.status.idle": "2023-02-01T04:28:17.719403Z",
     "shell.execute_reply": "2023-02-01T04:28:17.718124Z"
    },
    "papermill": {
     "duration": 1.609814,
     "end_time": "2023-02-01T04:28:17.723562",
     "exception": false,
     "start_time": "2023-02-01T04:28:16.113748",
     "status": "completed"
    },
    "tags": []
   },
   "outputs": [],
   "source": [
    "# importando os pacotes necessários iniciar nosso algoritmo.\n",
    "# Para esse caso, vou utlizar o RandomForestRegressor, mas também utilizarei o\n",
    "# DecisionTree\n",
    "from sklearn.ensemble import RandomForestRegressor\n",
    "from sklearn.metrics import mean_absolute_error\n",
    "from sklearn.model_selection import train_test_split\n",
    "from sklearn.metrics import mean_squared_error"
   ]
  },
  {
   "cell_type": "code",
   "execution_count": 10,
   "id": "2034e8cf",
   "metadata": {
    "execution": {
     "iopub.execute_input": "2023-02-01T04:28:17.753684Z",
     "iopub.status.busy": "2023-02-01T04:28:17.751818Z",
     "iopub.status.idle": "2023-02-01T04:28:17.757983Z",
     "shell.execute_reply": "2023-02-01T04:28:17.757078Z"
    },
    "papermill": {
     "duration": 0.023614,
     "end_time": "2023-02-01T04:28:17.760335",
     "exception": false,
     "start_time": "2023-02-01T04:28:17.736721",
     "status": "completed"
    },
    "tags": []
   },
   "outputs": [],
   "source": [
    "# Variável que eu quero prever\n",
    "y = df2.SalePrice"
   ]
  },
  {
   "cell_type": "code",
   "execution_count": 11,
   "id": "d420f885",
   "metadata": {
    "execution": {
     "iopub.execute_input": "2023-02-01T04:28:17.788652Z",
     "iopub.status.busy": "2023-02-01T04:28:17.787444Z",
     "iopub.status.idle": "2023-02-01T04:28:17.793261Z",
     "shell.execute_reply": "2023-02-01T04:28:17.791897Z"
    },
    "papermill": {
     "duration": 0.022241,
     "end_time": "2023-02-01T04:28:17.795872",
     "exception": false,
     "start_time": "2023-02-01T04:28:17.773631",
     "status": "completed"
    },
    "tags": []
   },
   "outputs": [],
   "source": [
    "# Colunas que irei analisar, geralmente são dados tipo int ou float\n",
    "features = ['LotArea', 'YearBuilt', '1stFlrSF', '2ndFlrSF', 'FullBath', 'BedroomAbvGr', 'TotRmsAbvGrd']"
   ]
  },
  {
   "cell_type": "code",
   "execution_count": 12,
   "id": "e5cfca0a",
   "metadata": {
    "execution": {
     "iopub.execute_input": "2023-02-01T04:28:17.822955Z",
     "iopub.status.busy": "2023-02-01T04:28:17.822211Z",
     "iopub.status.idle": "2023-02-01T04:28:17.828583Z",
     "shell.execute_reply": "2023-02-01T04:28:17.827385Z"
    },
    "papermill": {
     "duration": 0.022913,
     "end_time": "2023-02-01T04:28:17.831153",
     "exception": false,
     "start_time": "2023-02-01T04:28:17.808240",
     "status": "completed"
    },
    "tags": []
   },
   "outputs": [],
   "source": [
    "# Para ficar mais fácil na hora de chamar, vamos declarar uma variável\n",
    "X = df2[features]"
   ]
  },
  {
   "cell_type": "code",
   "execution_count": 13,
   "id": "e3b4341b",
   "metadata": {
    "execution": {
     "iopub.execute_input": "2023-02-01T04:28:17.858651Z",
     "iopub.status.busy": "2023-02-01T04:28:17.858235Z",
     "iopub.status.idle": "2023-02-01T04:28:17.870875Z",
     "shell.execute_reply": "2023-02-01T04:28:17.869584Z"
    },
    "papermill": {
     "duration": 0.02943,
     "end_time": "2023-02-01T04:28:17.873290",
     "exception": false,
     "start_time": "2023-02-01T04:28:17.843860",
     "status": "completed"
    },
    "tags": []
   },
   "outputs": [
    {
     "data": {
      "text/html": [
       "<div>\n",
       "<style scoped>\n",
       "    .dataframe tbody tr th:only-of-type {\n",
       "        vertical-align: middle;\n",
       "    }\n",
       "\n",
       "    .dataframe tbody tr th {\n",
       "        vertical-align: top;\n",
       "    }\n",
       "\n",
       "    .dataframe thead th {\n",
       "        text-align: right;\n",
       "    }\n",
       "</style>\n",
       "<table border=\"1\" class=\"dataframe\">\n",
       "  <thead>\n",
       "    <tr style=\"text-align: right;\">\n",
       "      <th></th>\n",
       "      <th>LotArea</th>\n",
       "      <th>YearBuilt</th>\n",
       "      <th>1stFlrSF</th>\n",
       "      <th>2ndFlrSF</th>\n",
       "      <th>FullBath</th>\n",
       "      <th>BedroomAbvGr</th>\n",
       "      <th>TotRmsAbvGrd</th>\n",
       "    </tr>\n",
       "  </thead>\n",
       "  <tbody>\n",
       "    <tr>\n",
       "      <th>0</th>\n",
       "      <td>8450</td>\n",
       "      <td>2003</td>\n",
       "      <td>856</td>\n",
       "      <td>854</td>\n",
       "      <td>2</td>\n",
       "      <td>3</td>\n",
       "      <td>8</td>\n",
       "    </tr>\n",
       "    <tr>\n",
       "      <th>1</th>\n",
       "      <td>9600</td>\n",
       "      <td>1976</td>\n",
       "      <td>1262</td>\n",
       "      <td>0</td>\n",
       "      <td>2</td>\n",
       "      <td>3</td>\n",
       "      <td>6</td>\n",
       "    </tr>\n",
       "    <tr>\n",
       "      <th>2</th>\n",
       "      <td>11250</td>\n",
       "      <td>2001</td>\n",
       "      <td>920</td>\n",
       "      <td>866</td>\n",
       "      <td>2</td>\n",
       "      <td>3</td>\n",
       "      <td>6</td>\n",
       "    </tr>\n",
       "    <tr>\n",
       "      <th>3</th>\n",
       "      <td>9550</td>\n",
       "      <td>1915</td>\n",
       "      <td>961</td>\n",
       "      <td>756</td>\n",
       "      <td>1</td>\n",
       "      <td>3</td>\n",
       "      <td>7</td>\n",
       "    </tr>\n",
       "    <tr>\n",
       "      <th>4</th>\n",
       "      <td>14260</td>\n",
       "      <td>2000</td>\n",
       "      <td>1145</td>\n",
       "      <td>1053</td>\n",
       "      <td>2</td>\n",
       "      <td>4</td>\n",
       "      <td>9</td>\n",
       "    </tr>\n",
       "  </tbody>\n",
       "</table>\n",
       "</div>"
      ],
      "text/plain": [
       "   LotArea  YearBuilt  1stFlrSF  2ndFlrSF  FullBath  BedroomAbvGr  \\\n",
       "0     8450       2003       856       854         2             3   \n",
       "1     9600       1976      1262         0         2             3   \n",
       "2    11250       2001       920       866         2             3   \n",
       "3     9550       1915       961       756         1             3   \n",
       "4    14260       2000      1145      1053         2             4   \n",
       "\n",
       "   TotRmsAbvGrd  \n",
       "0             8  \n",
       "1             6  \n",
       "2             6  \n",
       "3             7  \n",
       "4             9  "
      ]
     },
     "execution_count": 13,
     "metadata": {},
     "output_type": "execute_result"
    }
   ],
   "source": [
    "# Verificando\n",
    "X.head()"
   ]
  },
  {
   "cell_type": "code",
   "execution_count": 14,
   "id": "4db47c78",
   "metadata": {
    "execution": {
     "iopub.execute_input": "2023-02-01T04:28:17.900376Z",
     "iopub.status.busy": "2023-02-01T04:28:17.899976Z",
     "iopub.status.idle": "2023-02-01T04:28:17.907776Z",
     "shell.execute_reply": "2023-02-01T04:28:17.906550Z"
    },
    "papermill": {
     "duration": 0.024569,
     "end_time": "2023-02-01T04:28:17.910374",
     "exception": false,
     "start_time": "2023-02-01T04:28:17.885805",
     "status": "completed"
    },
    "tags": []
   },
   "outputs": [],
   "source": [
    "# Utilizando o split, e separando os dados treino em 30%, para falar a verdade\n",
    "# suponho que seja 30% de 30% se os dados já estiverem separados\n",
    "# Ex: Temos 1000 linhas e separamos para 70% em treino e 30% em teste\n",
    "# Como utilizei test_size = 0.3, suponho que eu esteja treinando 0,3 * 700 = 210 linhas\n",
    "# Mas, seguindo...\n",
    "train_X, val_X, train_y, val_y = train_test_split(X, y,test_size=0.3, random_state=1)"
   ]
  },
  {
   "cell_type": "code",
   "execution_count": 15,
   "id": "30491d64",
   "metadata": {
    "execution": {
     "iopub.execute_input": "2023-02-01T04:28:17.937347Z",
     "iopub.status.busy": "2023-02-01T04:28:17.936923Z",
     "iopub.status.idle": "2023-02-01T04:28:17.942446Z",
     "shell.execute_reply": "2023-02-01T04:28:17.941238Z"
    },
    "papermill": {
     "duration": 0.021971,
     "end_time": "2023-02-01T04:28:17.944824",
     "exception": false,
     "start_time": "2023-02-01T04:28:17.922853",
     "status": "completed"
    },
    "tags": []
   },
   "outputs": [],
   "source": [
    "# Precisamos passar os parametros para função, cuidado com o overfitting e underfitting\n",
    "model1 = RandomForestRegressor(n_estimators = 150,min_samples_leaf=8,random_state = 0, n_jobs = -1)"
   ]
  },
  {
   "cell_type": "code",
   "execution_count": 16,
   "id": "75c67524",
   "metadata": {
    "execution": {
     "iopub.execute_input": "2023-02-01T04:28:17.972055Z",
     "iopub.status.busy": "2023-02-01T04:28:17.971625Z",
     "iopub.status.idle": "2023-02-01T04:28:18.458157Z",
     "shell.execute_reply": "2023-02-01T04:28:18.456721Z"
    },
    "papermill": {
     "duration": 0.503885,
     "end_time": "2023-02-01T04:28:18.461288",
     "exception": false,
     "start_time": "2023-02-01T04:28:17.957403",
     "status": "completed"
    },
    "tags": []
   },
   "outputs": [
    {
     "data": {
      "text/plain": [
       "RandomForestRegressor(min_samples_leaf=8, n_estimators=150, n_jobs=-1,\n",
       "                      random_state=0)"
      ]
     },
     "execution_count": 16,
     "metadata": {},
     "output_type": "execute_result"
    }
   ],
   "source": [
    "# Treinando o modelo com o fit\n",
    "model1.fit(train_X,train_y)"
   ]
  },
  {
   "cell_type": "code",
   "execution_count": 17,
   "id": "f53c5279",
   "metadata": {
    "execution": {
     "iopub.execute_input": "2023-02-01T04:28:18.490871Z",
     "iopub.status.busy": "2023-02-01T04:28:18.489714Z",
     "iopub.status.idle": "2023-02-01T04:28:18.599783Z",
     "shell.execute_reply": "2023-02-01T04:28:18.598560Z"
    },
    "papermill": {
     "duration": 0.128011,
     "end_time": "2023-02-01T04:28:18.602615",
     "exception": false,
     "start_time": "2023-02-01T04:28:18.474604",
     "status": "completed"
    },
    "tags": []
   },
   "outputs": [],
   "source": [
    "# Fazendo as previsões com o conjunto de validação (não é o dado teste)\n",
    "model1_val_predictions = model1.predict(val_X)"
   ]
  },
  {
   "cell_type": "code",
   "execution_count": 18,
   "id": "53c44cd3",
   "metadata": {
    "execution": {
     "iopub.execute_input": "2023-02-01T04:28:18.630158Z",
     "iopub.status.busy": "2023-02-01T04:28:18.629686Z",
     "iopub.status.idle": "2023-02-01T04:28:18.635858Z",
     "shell.execute_reply": "2023-02-01T04:28:18.634703Z"
    },
    "papermill": {
     "duration": 0.022934,
     "end_time": "2023-02-01T04:28:18.638341",
     "exception": false,
     "start_time": "2023-02-01T04:28:18.615407",
     "status": "completed"
    },
    "tags": []
   },
   "outputs": [],
   "source": [
    "model1_val_mse= np.sqrt(mean_squared_error(model1_val_predictions, val_y))"
   ]
  },
  {
   "cell_type": "code",
   "execution_count": 19,
   "id": "eba95869",
   "metadata": {
    "execution": {
     "iopub.execute_input": "2023-02-01T04:28:18.666534Z",
     "iopub.status.busy": "2023-02-01T04:28:18.666140Z",
     "iopub.status.idle": "2023-02-01T04:28:18.672311Z",
     "shell.execute_reply": "2023-02-01T04:28:18.671062Z"
    },
    "papermill": {
     "duration": 0.022738,
     "end_time": "2023-02-01T04:28:18.674631",
     "exception": false,
     "start_time": "2023-02-01T04:28:18.651893",
     "status": "completed"
    },
    "tags": []
   },
   "outputs": [],
   "source": [
    "# Verificando o erro:\n",
    "model1_val_mae = mean_absolute_error(model1_val_predictions, val_y)"
   ]
  },
  {
   "cell_type": "code",
   "execution_count": 20,
   "id": "1f832aae",
   "metadata": {
    "execution": {
     "iopub.execute_input": "2023-02-01T04:28:18.701874Z",
     "iopub.status.busy": "2023-02-01T04:28:18.701169Z",
     "iopub.status.idle": "2023-02-01T04:28:18.709791Z",
     "shell.execute_reply": "2023-02-01T04:28:18.707628Z"
    },
    "papermill": {
     "duration": 0.025399,
     "end_time": "2023-02-01T04:28:18.712585",
     "exception": false,
     "start_time": "2023-02-01T04:28:18.687186",
     "status": "completed"
    },
    "tags": []
   },
   "outputs": [
    {
     "name": "stdout",
     "output_type": "stream",
     "text": [
      "Validation MSE for Random Forest Model: 38,020\n"
     ]
    }
   ],
   "source": [
    "print(\"Validation MSE for Random Forest Model: {:,.0f}\".format(model1_val_mse))"
   ]
  },
  {
   "cell_type": "code",
   "execution_count": 21,
   "id": "315950cf",
   "metadata": {
    "execution": {
     "iopub.execute_input": "2023-02-01T04:28:18.741887Z",
     "iopub.status.busy": "2023-02-01T04:28:18.741300Z",
     "iopub.status.idle": "2023-02-01T04:28:18.747825Z",
     "shell.execute_reply": "2023-02-01T04:28:18.746407Z"
    },
    "papermill": {
     "duration": 0.024204,
     "end_time": "2023-02-01T04:28:18.750659",
     "exception": false,
     "start_time": "2023-02-01T04:28:18.726455",
     "status": "completed"
    },
    "tags": []
   },
   "outputs": [
    {
     "name": "stdout",
     "output_type": "stream",
     "text": [
      "Validation MAE for Random Forest Model: 24,285\n"
     ]
    }
   ],
   "source": [
    "# Qual erro final, para este modelo, com o conjunto de dados teste\n",
    "print(\"Validation MAE for Random Forest Model: {:,.0f}\".format(model1_val_mae))"
   ]
  },
  {
   "cell_type": "code",
   "execution_count": 22,
   "id": "9df86377",
   "metadata": {
    "execution": {
     "iopub.execute_input": "2023-02-01T04:28:18.779811Z",
     "iopub.status.busy": "2023-02-01T04:28:18.779422Z",
     "iopub.status.idle": "2023-02-01T04:28:18.785386Z",
     "shell.execute_reply": "2023-02-01T04:28:18.784108Z"
    },
    "papermill": {
     "duration": 0.022544,
     "end_time": "2023-02-01T04:28:18.787722",
     "exception": false,
     "start_time": "2023-02-01T04:28:18.765178",
     "status": "completed"
    },
    "tags": []
   },
   "outputs": [],
   "source": [
    "# Agora, vamos utilizar os dados para treinar os modelos com os dados que precisamos prever\n",
    "model1_on_full_data = RandomForestRegressor(random_state = 1)"
   ]
  },
  {
   "cell_type": "code",
   "execution_count": 23,
   "id": "942d2820",
   "metadata": {
    "execution": {
     "iopub.execute_input": "2023-02-01T04:28:18.815869Z",
     "iopub.status.busy": "2023-02-01T04:28:18.815444Z",
     "iopub.status.idle": "2023-02-01T04:28:19.372428Z",
     "shell.execute_reply": "2023-02-01T04:28:19.370990Z"
    },
    "papermill": {
     "duration": 0.574813,
     "end_time": "2023-02-01T04:28:19.375254",
     "exception": false,
     "start_time": "2023-02-01T04:28:18.800441",
     "status": "completed"
    },
    "tags": []
   },
   "outputs": [
    {
     "data": {
      "text/plain": [
       "RandomForestRegressor(random_state=1)"
      ]
     },
     "execution_count": 23,
     "metadata": {},
     "output_type": "execute_result"
    }
   ],
   "source": [
    "# Treinando\n",
    "model1_on_full_data.fit(X,y)"
   ]
  },
  {
   "cell_type": "code",
   "execution_count": 24,
   "id": "f66e7fbc",
   "metadata": {
    "execution": {
     "iopub.execute_input": "2023-02-01T04:28:19.403632Z",
     "iopub.status.busy": "2023-02-01T04:28:19.403239Z",
     "iopub.status.idle": "2023-02-01T04:28:19.408937Z",
     "shell.execute_reply": "2023-02-01T04:28:19.407720Z"
    },
    "papermill": {
     "duration": 0.023169,
     "end_time": "2023-02-01T04:28:19.411239",
     "exception": false,
     "start_time": "2023-02-01T04:28:19.388070",
     "status": "completed"
    },
    "tags": []
   },
   "outputs": [],
   "source": [
    "# Analizando as colunas, do nosso conjunto dados teste!!\n",
    "test_X = df1[features]"
   ]
  },
  {
   "cell_type": "code",
   "execution_count": 25,
   "id": "7711af7d",
   "metadata": {
    "execution": {
     "iopub.execute_input": "2023-02-01T04:28:19.438780Z",
     "iopub.status.busy": "2023-02-01T04:28:19.438002Z",
     "iopub.status.idle": "2023-02-01T04:28:19.482424Z",
     "shell.execute_reply": "2023-02-01T04:28:19.481469Z"
    },
    "papermill": {
     "duration": 0.061179,
     "end_time": "2023-02-01T04:28:19.485060",
     "exception": false,
     "start_time": "2023-02-01T04:28:19.423881",
     "status": "completed"
    },
    "tags": []
   },
   "outputs": [],
   "source": [
    "# Quais previsões?\n",
    "test_preds = model1_on_full_data.predict(test_X)"
   ]
  },
  {
   "cell_type": "code",
   "execution_count": 26,
   "id": "2756108e",
   "metadata": {
    "execution": {
     "iopub.execute_input": "2023-02-01T04:28:19.512850Z",
     "iopub.status.busy": "2023-02-01T04:28:19.511833Z",
     "iopub.status.idle": "2023-02-01T04:28:19.519407Z",
     "shell.execute_reply": "2023-02-01T04:28:19.518108Z"
    },
    "papermill": {
     "duration": 0.023732,
     "end_time": "2023-02-01T04:28:19.521686",
     "exception": false,
     "start_time": "2023-02-01T04:28:19.497954",
     "status": "completed"
    },
    "tags": []
   },
   "outputs": [
    {
     "data": {
      "text/plain": [
       "array([122656.58, 156789.  , 182959.  , 178102.  , 189049.48, 180979.45,\n",
       "       172797.  , 173716.72, 187535.19, 116171.5 ])"
      ]
     },
     "execution_count": 26,
     "metadata": {},
     "output_type": "execute_result"
    }
   ],
   "source": [
    "# Printaremos\n",
    "test_preds[:10]"
   ]
  },
  {
   "cell_type": "code",
   "execution_count": 27,
   "id": "5bfc3c87",
   "metadata": {
    "execution": {
     "iopub.execute_input": "2023-02-01T04:28:19.549184Z",
     "iopub.status.busy": "2023-02-01T04:28:19.548753Z",
     "iopub.status.idle": "2023-02-01T04:28:19.561631Z",
     "shell.execute_reply": "2023-02-01T04:28:19.560500Z"
    },
    "papermill": {
     "duration": 0.029796,
     "end_time": "2023-02-01T04:28:19.564343",
     "exception": false,
     "start_time": "2023-02-01T04:28:19.534547",
     "status": "completed"
    },
    "tags": []
   },
   "outputs": [],
   "source": [
    "# Criaremos um dataframe com o id e saleprice, conforme foi pedido\n",
    "output = pd.DataFrame({'Id': df1.Id,\n",
    "                       'SalePrice': test_preds})\n",
    "output.to_csv('submission.csv', index=False)"
   ]
  },
  {
   "cell_type": "code",
   "execution_count": 28,
   "id": "62575bd7",
   "metadata": {
    "execution": {
     "iopub.execute_input": "2023-02-01T04:28:19.591833Z",
     "iopub.status.busy": "2023-02-01T04:28:19.591431Z",
     "iopub.status.idle": "2023-02-01T04:28:19.602176Z",
     "shell.execute_reply": "2023-02-01T04:28:19.600983Z"
    },
    "papermill": {
     "duration": 0.027207,
     "end_time": "2023-02-01T04:28:19.604534",
     "exception": false,
     "start_time": "2023-02-01T04:28:19.577327",
     "status": "completed"
    },
    "tags": []
   },
   "outputs": [
    {
     "data": {
      "text/html": [
       "<div>\n",
       "<style scoped>\n",
       "    .dataframe tbody tr th:only-of-type {\n",
       "        vertical-align: middle;\n",
       "    }\n",
       "\n",
       "    .dataframe tbody tr th {\n",
       "        vertical-align: top;\n",
       "    }\n",
       "\n",
       "    .dataframe thead th {\n",
       "        text-align: right;\n",
       "    }\n",
       "</style>\n",
       "<table border=\"1\" class=\"dataframe\">\n",
       "  <thead>\n",
       "    <tr style=\"text-align: right;\">\n",
       "      <th></th>\n",
       "      <th>Id</th>\n",
       "      <th>SalePrice</th>\n",
       "    </tr>\n",
       "  </thead>\n",
       "  <tbody>\n",
       "    <tr>\n",
       "      <th>0</th>\n",
       "      <td>1461</td>\n",
       "      <td>122656.58</td>\n",
       "    </tr>\n",
       "    <tr>\n",
       "      <th>1</th>\n",
       "      <td>1462</td>\n",
       "      <td>156789.00</td>\n",
       "    </tr>\n",
       "    <tr>\n",
       "      <th>2</th>\n",
       "      <td>1463</td>\n",
       "      <td>182959.00</td>\n",
       "    </tr>\n",
       "    <tr>\n",
       "      <th>3</th>\n",
       "      <td>1464</td>\n",
       "      <td>178102.00</td>\n",
       "    </tr>\n",
       "    <tr>\n",
       "      <th>4</th>\n",
       "      <td>1465</td>\n",
       "      <td>189049.48</td>\n",
       "    </tr>\n",
       "  </tbody>\n",
       "</table>\n",
       "</div>"
      ],
      "text/plain": [
       "     Id  SalePrice\n",
       "0  1461  122656.58\n",
       "1  1462  156789.00\n",
       "2  1463  182959.00\n",
       "3  1464  178102.00\n",
       "4  1465  189049.48"
      ]
     },
     "execution_count": 28,
     "metadata": {},
     "output_type": "execute_result"
    }
   ],
   "source": [
    "# Resultados da previsão com o modelo de RandomForest\n",
    "output.head()"
   ]
  },
  {
   "cell_type": "markdown",
   "id": "fdd9cd53",
   "metadata": {
    "papermill": {
     "duration": 0.01293,
     "end_time": "2023-02-01T04:28:19.630472",
     "exception": false,
     "start_time": "2023-02-01T04:28:19.617542",
     "status": "completed"
    },
    "tags": []
   },
   "source": [
    "# Vamos analizar agora com o DecisionTreeRegressor[](http://)"
   ]
  },
  {
   "cell_type": "code",
   "execution_count": 29,
   "id": "c54e8c98",
   "metadata": {
    "execution": {
     "iopub.execute_input": "2023-02-01T04:28:19.658845Z",
     "iopub.status.busy": "2023-02-01T04:28:19.658246Z",
     "iopub.status.idle": "2023-02-01T04:28:19.663177Z",
     "shell.execute_reply": "2023-02-01T04:28:19.662410Z"
    },
    "papermill": {
     "duration": 0.021778,
     "end_time": "2023-02-01T04:28:19.665384",
     "exception": false,
     "start_time": "2023-02-01T04:28:19.643606",
     "status": "completed"
    },
    "tags": []
   },
   "outputs": [],
   "source": [
    "from sklearn.tree import DecisionTreeRegressor, plot_tree"
   ]
  },
  {
   "cell_type": "code",
   "execution_count": 30,
   "id": "7789abf5",
   "metadata": {
    "execution": {
     "iopub.execute_input": "2023-02-01T04:28:19.696586Z",
     "iopub.status.busy": "2023-02-01T04:28:19.695513Z",
     "iopub.status.idle": "2023-02-01T04:28:19.707783Z",
     "shell.execute_reply": "2023-02-01T04:28:19.706481Z"
    },
    "papermill": {
     "duration": 0.032159,
     "end_time": "2023-02-01T04:28:19.710544",
     "exception": false,
     "start_time": "2023-02-01T04:28:19.678385",
     "status": "completed"
    },
    "tags": []
   },
   "outputs": [
    {
     "data": {
      "text/plain": [
       "DecisionTreeRegressor(min_samples_leaf=21, random_state=0)"
      ]
     },
     "execution_count": 30,
     "metadata": {},
     "output_type": "execute_result"
    }
   ],
   "source": [
    "model2 = DecisionTreeRegressor(min_samples_leaf=21, random_state=0)\n",
    "model2.fit(train_X,train_y)"
   ]
  },
  {
   "cell_type": "code",
   "execution_count": 31,
   "id": "2c06ecad",
   "metadata": {
    "execution": {
     "iopub.execute_input": "2023-02-01T04:28:19.738529Z",
     "iopub.status.busy": "2023-02-01T04:28:19.738096Z",
     "iopub.status.idle": "2023-02-01T04:28:19.745838Z",
     "shell.execute_reply": "2023-02-01T04:28:19.744091Z"
    },
    "papermill": {
     "duration": 0.024538,
     "end_time": "2023-02-01T04:28:19.748393",
     "exception": false,
     "start_time": "2023-02-01T04:28:19.723855",
     "status": "completed"
    },
    "tags": []
   },
   "outputs": [],
   "source": [
    "model2_val_predictions = model2.predict(val_X)"
   ]
  },
  {
   "cell_type": "code",
   "execution_count": 32,
   "id": "57d69dec",
   "metadata": {
    "execution": {
     "iopub.execute_input": "2023-02-01T04:28:19.777381Z",
     "iopub.status.busy": "2023-02-01T04:28:19.776881Z",
     "iopub.status.idle": "2023-02-01T04:28:19.783407Z",
     "shell.execute_reply": "2023-02-01T04:28:19.782215Z"
    },
    "papermill": {
     "duration": 0.023393,
     "end_time": "2023-02-01T04:28:19.785597",
     "exception": false,
     "start_time": "2023-02-01T04:28:19.762204",
     "status": "completed"
    },
    "tags": []
   },
   "outputs": [],
   "source": [
    "model2_val_mae = mean_absolute_error(model2_val_predictions, val_y)"
   ]
  },
  {
   "cell_type": "code",
   "execution_count": 33,
   "id": "cc49438f",
   "metadata": {
    "execution": {
     "iopub.execute_input": "2023-02-01T04:28:19.815600Z",
     "iopub.status.busy": "2023-02-01T04:28:19.814818Z",
     "iopub.status.idle": "2023-02-01T04:28:19.820678Z",
     "shell.execute_reply": "2023-02-01T04:28:19.819169Z"
    },
    "papermill": {
     "duration": 0.022961,
     "end_time": "2023-02-01T04:28:19.823374",
     "exception": false,
     "start_time": "2023-02-01T04:28:19.800413",
     "status": "completed"
    },
    "tags": []
   },
   "outputs": [
    {
     "name": "stdout",
     "output_type": "stream",
     "text": [
      "Validation MAE for Decision Tree Model: 29,444\n"
     ]
    }
   ],
   "source": [
    "print(\"Validation MAE for Decision Tree Model: {:,.0f}\".format(model2_val_mae))"
   ]
  },
  {
   "cell_type": "code",
   "execution_count": 34,
   "id": "e09b59da",
   "metadata": {
    "execution": {
     "iopub.execute_input": "2023-02-01T04:28:19.852078Z",
     "iopub.status.busy": "2023-02-01T04:28:19.851376Z",
     "iopub.status.idle": "2023-02-01T04:28:19.857219Z",
     "shell.execute_reply": "2023-02-01T04:28:19.856372Z"
    },
    "papermill": {
     "duration": 0.022467,
     "end_time": "2023-02-01T04:28:19.859506",
     "exception": false,
     "start_time": "2023-02-01T04:28:19.837039",
     "status": "completed"
    },
    "tags": []
   },
   "outputs": [],
   "source": [
    "model2_val_mse= np.sqrt(mean_squared_error(model2_val_predictions, val_y))"
   ]
  },
  {
   "cell_type": "code",
   "execution_count": 35,
   "id": "e79bb06a",
   "metadata": {
    "execution": {
     "iopub.execute_input": "2023-02-01T04:28:19.889815Z",
     "iopub.status.busy": "2023-02-01T04:28:19.888941Z",
     "iopub.status.idle": "2023-02-01T04:28:19.895706Z",
     "shell.execute_reply": "2023-02-01T04:28:19.894087Z"
    },
    "papermill": {
     "duration": 0.024976,
     "end_time": "2023-02-01T04:28:19.898351",
     "exception": false,
     "start_time": "2023-02-01T04:28:19.873375",
     "status": "completed"
    },
    "tags": []
   },
   "outputs": [
    {
     "name": "stdout",
     "output_type": "stream",
     "text": [
      "Validation MSE for Decision Tree Model: 44,802\n"
     ]
    }
   ],
   "source": [
    "print(\"Validation MSE for Decision Tree Model: {:,.0f}\".format(model2_val_mse))"
   ]
  },
  {
   "cell_type": "code",
   "execution_count": 36,
   "id": "adea4b44",
   "metadata": {
    "execution": {
     "iopub.execute_input": "2023-02-01T04:28:19.927690Z",
     "iopub.status.busy": "2023-02-01T04:28:19.926717Z",
     "iopub.status.idle": "2023-02-01T04:28:19.931627Z",
     "shell.execute_reply": "2023-02-01T04:28:19.930476Z"
    },
    "papermill": {
     "duration": 0.022732,
     "end_time": "2023-02-01T04:28:19.934233",
     "exception": false,
     "start_time": "2023-02-01T04:28:19.911501",
     "status": "completed"
    },
    "tags": []
   },
   "outputs": [],
   "source": [
    "model2_on_full_data = DecisionTreeRegressor(random_state = 1)"
   ]
  },
  {
   "cell_type": "code",
   "execution_count": 37,
   "id": "45498dd1",
   "metadata": {
    "execution": {
     "iopub.execute_input": "2023-02-01T04:28:19.962826Z",
     "iopub.status.busy": "2023-02-01T04:28:19.962396Z",
     "iopub.status.idle": "2023-02-01T04:28:19.978700Z",
     "shell.execute_reply": "2023-02-01T04:28:19.977802Z"
    },
    "papermill": {
     "duration": 0.033292,
     "end_time": "2023-02-01T04:28:19.981098",
     "exception": false,
     "start_time": "2023-02-01T04:28:19.947806",
     "status": "completed"
    },
    "tags": []
   },
   "outputs": [
    {
     "data": {
      "text/plain": [
       "DecisionTreeRegressor(random_state=1)"
      ]
     },
     "execution_count": 37,
     "metadata": {},
     "output_type": "execute_result"
    }
   ],
   "source": [
    "model2_on_full_data.fit(X,y)"
   ]
  },
  {
   "cell_type": "code",
   "execution_count": 38,
   "id": "bec463a6",
   "metadata": {
    "execution": {
     "iopub.execute_input": "2023-02-01T04:28:20.012250Z",
     "iopub.status.busy": "2023-02-01T04:28:20.011691Z",
     "iopub.status.idle": "2023-02-01T04:28:20.018159Z",
     "shell.execute_reply": "2023-02-01T04:28:20.016834Z"
    },
    "papermill": {
     "duration": 0.025927,
     "end_time": "2023-02-01T04:28:20.021494",
     "exception": false,
     "start_time": "2023-02-01T04:28:19.995567",
     "status": "completed"
    },
    "tags": []
   },
   "outputs": [],
   "source": [
    "test_X1 = df1[features]"
   ]
  },
  {
   "cell_type": "code",
   "execution_count": 39,
   "id": "ee2c5d26",
   "metadata": {
    "execution": {
     "iopub.execute_input": "2023-02-01T04:28:20.050404Z",
     "iopub.status.busy": "2023-02-01T04:28:20.049978Z",
     "iopub.status.idle": "2023-02-01T04:28:20.057733Z",
     "shell.execute_reply": "2023-02-01T04:28:20.056387Z"
    },
    "papermill": {
     "duration": 0.025506,
     "end_time": "2023-02-01T04:28:20.060330",
     "exception": false,
     "start_time": "2023-02-01T04:28:20.034824",
     "status": "completed"
    },
    "tags": []
   },
   "outputs": [],
   "source": [
    "test_preds = model2_on_full_data.predict(test_X1)"
   ]
  },
  {
   "cell_type": "code",
   "execution_count": 40,
   "id": "617b4e3b",
   "metadata": {
    "execution": {
     "iopub.execute_input": "2023-02-01T04:28:20.090998Z",
     "iopub.status.busy": "2023-02-01T04:28:20.090532Z",
     "iopub.status.idle": "2023-02-01T04:28:20.098236Z",
     "shell.execute_reply": "2023-02-01T04:28:20.097056Z"
    },
    "papermill": {
     "duration": 0.024906,
     "end_time": "2023-02-01T04:28:20.100707",
     "exception": false,
     "start_time": "2023-02-01T04:28:20.075801",
     "status": "completed"
    },
    "tags": []
   },
   "outputs": [
    {
     "data": {
      "text/plain": [
       "array([ 94750., 137500., 173000., 178000., 189000., 165400., 173000.,\n",
       "       163990., 180000.,  97000.])"
      ]
     },
     "execution_count": 40,
     "metadata": {},
     "output_type": "execute_result"
    }
   ],
   "source": [
    "# Printaremos\n",
    "test_preds[:10]"
   ]
  },
  {
   "cell_type": "code",
   "execution_count": 41,
   "id": "928379c8",
   "metadata": {
    "execution": {
     "iopub.execute_input": "2023-02-01T04:28:20.129529Z",
     "iopub.status.busy": "2023-02-01T04:28:20.129026Z",
     "iopub.status.idle": "2023-02-01T04:28:20.140020Z",
     "shell.execute_reply": "2023-02-01T04:28:20.138760Z"
    },
    "papermill": {
     "duration": 0.028615,
     "end_time": "2023-02-01T04:28:20.142737",
     "exception": false,
     "start_time": "2023-02-01T04:28:20.114122",
     "status": "completed"
    },
    "tags": []
   },
   "outputs": [],
   "source": [
    "output1 = pd.DataFrame({'Id': df1.Id,\n",
    "                       'SalePrice': test_preds})\n",
    "output1.to_csv('submission1.csv', index=False)"
   ]
  },
  {
   "cell_type": "code",
   "execution_count": 42,
   "id": "4f0fcc05",
   "metadata": {
    "execution": {
     "iopub.execute_input": "2023-02-01T04:28:20.172480Z",
     "iopub.status.busy": "2023-02-01T04:28:20.172059Z",
     "iopub.status.idle": "2023-02-01T04:28:20.183157Z",
     "shell.execute_reply": "2023-02-01T04:28:20.181777Z"
    },
    "papermill": {
     "duration": 0.029032,
     "end_time": "2023-02-01T04:28:20.185645",
     "exception": false,
     "start_time": "2023-02-01T04:28:20.156613",
     "status": "completed"
    },
    "tags": []
   },
   "outputs": [
    {
     "data": {
      "text/html": [
       "<div>\n",
       "<style scoped>\n",
       "    .dataframe tbody tr th:only-of-type {\n",
       "        vertical-align: middle;\n",
       "    }\n",
       "\n",
       "    .dataframe tbody tr th {\n",
       "        vertical-align: top;\n",
       "    }\n",
       "\n",
       "    .dataframe thead th {\n",
       "        text-align: right;\n",
       "    }\n",
       "</style>\n",
       "<table border=\"1\" class=\"dataframe\">\n",
       "  <thead>\n",
       "    <tr style=\"text-align: right;\">\n",
       "      <th></th>\n",
       "      <th>Id</th>\n",
       "      <th>SalePrice</th>\n",
       "    </tr>\n",
       "  </thead>\n",
       "  <tbody>\n",
       "    <tr>\n",
       "      <th>0</th>\n",
       "      <td>1461</td>\n",
       "      <td>94750.0</td>\n",
       "    </tr>\n",
       "    <tr>\n",
       "      <th>1</th>\n",
       "      <td>1462</td>\n",
       "      <td>137500.0</td>\n",
       "    </tr>\n",
       "    <tr>\n",
       "      <th>2</th>\n",
       "      <td>1463</td>\n",
       "      <td>173000.0</td>\n",
       "    </tr>\n",
       "    <tr>\n",
       "      <th>3</th>\n",
       "      <td>1464</td>\n",
       "      <td>178000.0</td>\n",
       "    </tr>\n",
       "    <tr>\n",
       "      <th>4</th>\n",
       "      <td>1465</td>\n",
       "      <td>189000.0</td>\n",
       "    </tr>\n",
       "  </tbody>\n",
       "</table>\n",
       "</div>"
      ],
      "text/plain": [
       "     Id  SalePrice\n",
       "0  1461    94750.0\n",
       "1  1462   137500.0\n",
       "2  1463   173000.0\n",
       "3  1464   178000.0\n",
       "4  1465   189000.0"
      ]
     },
     "execution_count": 42,
     "metadata": {},
     "output_type": "execute_result"
    }
   ],
   "source": [
    "output1.head()"
   ]
  },
  {
   "cell_type": "code",
   "execution_count": 43,
   "id": "39a9cc97",
   "metadata": {
    "execution": {
     "iopub.execute_input": "2023-02-01T04:28:20.215644Z",
     "iopub.status.busy": "2023-02-01T04:28:20.215226Z",
     "iopub.status.idle": "2023-02-01T04:28:20.221901Z",
     "shell.execute_reply": "2023-02-01T04:28:20.220640Z"
    },
    "papermill": {
     "duration": 0.024933,
     "end_time": "2023-02-01T04:28:20.224145",
     "exception": false,
     "start_time": "2023-02-01T04:28:20.199212",
     "status": "completed"
    },
    "tags": []
   },
   "outputs": [],
   "source": [
    "Resultados = pd.DataFrame({'RandomForest':[\"model1_val_mse: {:,.0f}\".format(model1_val_mse),\"model1_val_mae: {:,.0f}\".format(model1_val_mae)],\n",
    "        'DecisionTree': [\"model2_val_mse: {:,.0f}\".format(model2_val_mse),\"model2_val_msa: {:,.0f}\".format(model2_val_mae)]})\n",
    "\n",
    "#print(\"Validation MAE for Random Forest Model: {:,.0f}\".format(model1_val_mae))\n",
    "#model1_val_mse\n",
    "#model1_val_msa\n",
    "#model2_val_mse\n",
    "#model2_val_msa"
   ]
  },
  {
   "cell_type": "markdown",
   "id": "de861910",
   "metadata": {
    "papermill": {
     "duration": 0.013461,
     "end_time": "2023-02-01T04:28:20.251037",
     "exception": false,
     "start_time": "2023-02-01T04:28:20.237576",
     "status": "completed"
    },
    "tags": []
   },
   "source": [
    "### 3 Resultados"
   ]
  },
  {
   "cell_type": "code",
   "execution_count": 44,
   "id": "3a7c6488",
   "metadata": {
    "execution": {
     "iopub.execute_input": "2023-02-01T04:28:20.279501Z",
     "iopub.status.busy": "2023-02-01T04:28:20.278966Z",
     "iopub.status.idle": "2023-02-01T04:28:20.286842Z",
     "shell.execute_reply": "2023-02-01T04:28:20.285707Z"
    },
    "papermill": {
     "duration": 0.024926,
     "end_time": "2023-02-01T04:28:20.289315",
     "exception": false,
     "start_time": "2023-02-01T04:28:20.264389",
     "status": "completed"
    },
    "tags": []
   },
   "outputs": [
    {
     "name": "stdout",
     "output_type": "stream",
     "text": [
      "             RandomForest            DecisionTree\n",
      "0  model1_val_mse: 38,020  model2_val_mse: 44,802\n",
      "1  model1_val_mae: 24,285  model2_val_msa: 29,444\n"
     ]
    }
   ],
   "source": [
    "print(Resultados)"
   ]
  },
  {
   "cell_type": "markdown",
   "id": "6a224a42",
   "metadata": {
    "papermill": {
     "duration": 0.013131,
     "end_time": "2023-02-01T04:28:20.315937",
     "exception": false,
     "start_time": "2023-02-01T04:28:20.302806",
     "status": "completed"
    },
    "tags": []
   },
   "source": [
    "# **Sendo assim, ficaremos com o model1, onde temos um mse e mae baixo, em relação ao model2.**\n",
    "\n",
    "# Ou seja, nesse caso, RandomForest obteve mais sucesso!!"
   ]
  },
  {
   "cell_type": "code",
   "execution_count": null,
   "id": "d3290e5e",
   "metadata": {
    "papermill": {
     "duration": 0.013166,
     "end_time": "2023-02-01T04:28:20.342568",
     "exception": false,
     "start_time": "2023-02-01T04:28:20.329402",
     "status": "completed"
    },
    "tags": []
   },
   "outputs": [],
   "source": []
  }
 ],
 "metadata": {
  "kernelspec": {
   "display_name": "Python 3",
   "language": "python",
   "name": "python3"
  },
  "language_info": {
   "codemirror_mode": {
    "name": "ipython",
    "version": 3
   },
   "file_extension": ".py",
   "mimetype": "text/x-python",
   "name": "python",
   "nbconvert_exporter": "python",
   "pygments_lexer": "ipython3",
   "version": "3.7.12"
  },
  "papermill": {
   "default_parameters": {},
   "duration": 15.674797,
   "end_time": "2023-02-01T04:28:21.180328",
   "environment_variables": {},
   "exception": null,
   "input_path": "__notebook__.ipynb",
   "output_path": "__notebook__.ipynb",
   "parameters": {},
   "start_time": "2023-02-01T04:28:05.505531",
   "version": "2.3.4"
  }
 },
 "nbformat": 4,
 "nbformat_minor": 5
}
